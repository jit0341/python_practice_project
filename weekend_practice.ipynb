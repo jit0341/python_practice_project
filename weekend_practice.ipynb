{
  "nbformat": 4,
  "nbformat_minor": 0,
  "metadata": {
    "colab": {
      "provenance": [],
      "authorship_tag": "ABX9TyMJyBPe7uj9SRYznfHJFGs5",
      "include_colab_link": true
    },
    "kernelspec": {
      "name": "python3",
      "display_name": "Python 3"
    },
    "language_info": {
      "name": "python"
    }
  },
  "cells": [
    {
      "cell_type": "markdown",
      "metadata": {
        "id": "view-in-github",
        "colab_type": "text"
      },
      "source": [
        "<a href=\"https://colab.research.google.com/github/jit0341/python_practice_project/blob/main/weekend_practice.ipynb\" target=\"_parent\"><img src=\"https://colab.research.google.com/assets/colab-badge.svg\" alt=\"Open In Colab\"/></a>"
      ]
    },
    {
      "cell_type": "code",
      "execution_count": null,
      "metadata": {
        "colab": {
          "base_uri": "https://localhost:8080/"
        },
        "id": "ud7jO7u0cfqG",
        "outputId": "3ac57504-d1f9-4f09-929f-fd16953e3623"
      },
      "outputs": [
        {
          "output_type": "stream",
          "name": "stdout",
          "text": [
            "Enter your name: Jack\n",
            "Enter your age: 11\n",
            "Hello Jack, you will be 21 years old after 10 years!\n",
            "You are a child.\n"
          ]
        }
      ],
      "source": [
        "# Age checker — replace the ___ with the right code/values\n",
        "\n",
        "name = input(\"Enter your name: \")\n",
        "age_input = input(\"Enter your age: \")\n",
        "\n",
        "age = int(age_input)          # ___ -> int\n",
        "\n",
        "future_age = age + 10        # ___ -> 10\n",
        "\n",
        "print(f\"Hello {name}, you will be {future_age} years old after 10 years!\")\n",
        "\n",
        "if age < 13:                 # ___ -> 13\n",
        "    print(\"You are a child.\")\n",
        "elif age >= 13 and age <= 19:  # first ___ -> 13, second ___ -> 19\n",
        "    print(\"You are a teenager.\")\n",
        "elif age >= 20 and age <= 59:  # first ___ -> 20, second ___ -> 59\n",
        "    print(\"You are an adult.\")\n",
        "else:\n",
        "    print(\"You are a senior.\")\n"
      ]
    },
    {
      "cell_type": "code",
      "source": [
        "secret = 7\n",
        "while True:\n",
        "  guess = int(input(\"Guess a number between 1 to 10\"))\n",
        "  if guess == secret:\n",
        "    print(\"Correct guess!\")\n",
        "    break\n",
        "  else:\n",
        "    print(\"Wrong, try again!\")\n",
        "\n"
      ],
      "metadata": {
        "colab": {
          "base_uri": "https://localhost:8080/"
        },
        "id": "DQe_87ore6H9",
        "outputId": "7114d36c-8f7f-4d41-9c6c-2e82922afb69"
      },
      "execution_count": null,
      "outputs": [
        {
          "output_type": "stream",
          "name": "stdout",
          "text": [
            "Guess a number between 1 to 104\n",
            "Wrong, try again!\n",
            "Guess a number between 1 to 107\n",
            "Correct guess!\n"
          ]
        }
      ]
    },
    {
      "cell_type": "code",
      "source": [
        "secret = 7\n",
        "tries = 0\n",
        "while tries < 5:\n",
        "  guess = int(input(\"Guess a number between 1 to 10: \"))\n",
        "  tries += 1\n",
        "\n",
        "  if guess == secret:\n",
        "    print(\"Correct guess!\")\n",
        "    break\n",
        "  elif guess > secret:\n",
        "    print(\"Your guess is too high!\")\n",
        "  else:\n",
        "    print(\"Your guess is too low!\")\n",
        "\n",
        "  if guess != secret:\n",
        "    print(\"Game over ! The number was {secret}.78\")\n",
        "\n",
        "\n"
      ],
      "metadata": {
        "colab": {
          "base_uri": "https://localhost:8080/"
        },
        "id": "OyGT1p0dgjl-",
        "outputId": "ab9ba78c-cbc9-4479-9905-6745a43a4029"
      },
      "execution_count": 7,
      "outputs": [
        {
          "output_type": "stream",
          "name": "stdout",
          "text": [
            "Guess a number between 1 to 10: 4\n",
            "Your guess is too low!\n",
            "Game over ! The number was {secret}.\n",
            "Guess a number between 1 to 10: 8\n",
            "Your guess is too high!\n",
            "Game over ! The number was {secret}.\n",
            "Guess a number between 1 to 10: 2\n",
            "Your guess is too low!\n",
            "Game over ! The number was {secret}.\n",
            "Guess a number between 1 to 10: 90\n",
            "Your guess is too high!\n",
            "Game over ! The number was {secret}.\n",
            "Guess a number between 1 to 10: 34\n",
            "Your guess is too high!\n",
            "Game over ! The number was {secret}.\n"
          ]
        }
      ]
    }
  ]
}