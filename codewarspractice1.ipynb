{
  "nbformat": 4,
  "nbformat_minor": 0,
  "metadata": {
    "colab": {
      "provenance": [],
      "authorship_tag": "ABX9TyOXanA3RFOJo4k9/REcYJuL",
      "include_colab_link": true
    },
    "kernelspec": {
      "name": "python3",
      "display_name": "Python 3"
    },
    "language_info": {
      "name": "python"
    }
  },
  "cells": [
    {
      "cell_type": "markdown",
      "metadata": {
        "id": "view-in-github",
        "colab_type": "text"
      },
      "source": [
        "<a href=\"https://colab.research.google.com/github/jit0341/python_practice_project/blob/main/codewarspractice1.ipynb\" target=\"_parent\"><img src=\"https://colab.research.google.com/assets/colab-badge.svg\" alt=\"Open In Colab\"/></a>"
      ]
    },
    {
      "cell_type": "code",
      "execution_count": null,
      "metadata": {
        "colab": {
          "base_uri": "https://localhost:8080/"
        },
        "id": "raUAJhYuy4LJ",
        "outputId": "e34afca5-c84f-4f5e-9d5e-8850f9959f1b"
      },
      "outputs": [
        {
          "output_type": "stream",
          "name": "stdout",
          "text": [
            "The average of [1, 2, 3, 4, 5] is 3.0\n",
            "The average of [10, 20, 30] is 20.0\n",
            "The average of an empty list is: 0\n"
          ]
        }
      ],
      "source": [
        "# Write a function which calculates the average of the numbers in a given array.\n",
        "\n",
        "# Note: Empty arrays should return 0.\n",
        "def find_average(numbers):\n",
        "    if not numbers:\n",
        "        return 0\n",
        "    total_sum = 0\n",
        "    for number in numbers:\n",
        "        total_sum += number\n",
        "    average = total_sum/len(numbers)\n",
        "    return average\n",
        "numbers1 = [1,2,3,4,5]\n",
        "print (f\"The average of {numbers1} is {find_average(numbers1)}\")\n",
        "numbers2 =[10,20,30]\n",
        "print (f\"The average of {numbers2} is {find_average(numbers2)}\")\n",
        "empty_list =[]\n",
        "print(f\"The average of an empty list is: {find_average(empty_list)}\")\n"
      ]
    },
    {
      "cell_type": "code",
      "source": [
        "# Digital root is the recursive sum of all the digits in a number.\n",
        "# Given n, take the sum of the digits of n. If that value has more than one digit, continue reducing in this way until a single-digit number is produced. The input will be a non-negative integer.\n",
        "# Examples\n",
        "#  16  -->  1 + 6 = 7\n",
        "   # 942  -->  9 + 4 + 2 = 15  -->  1 + 5 = 6\n",
        "# 132189  -->  1 + 3 + 2 + 1 + 8 + 9 = 24  -->  2 + 4 = 6\n",
        "# 493193  -->  4 + 9 + 3 + 1 + 9 + 3 = 29  -->  2 + 9 = 11\n",
        "def digital_root(n):\n",
        "    while n >= 10:\n",
        "        sum_of_digits = 0\n",
        "        for digit in str(n):\n",
        "            sum_of_digits += int(digit)\n",
        "        # This line is now correctly placed outside the for loop\n",
        "        n = sum_of_digits\n",
        "    return n\n",
        "\n",
        "# The example usage goes OUTSIDE of the function definition.\n",
        "print(f\"The digital root of 16 is: {digital_root(16)}\")\n",
        "print(f\"The digital root of 942 is: {digital_root(942)}\")\n",
        "print(f\"The digital root of 132189 is: {digital_root(132189)}\")\n",
        "print(f\"The digital root of 493193 is: {digital_root(493193)}\")"
      ],
      "metadata": {
        "id": "NhekPRx3840g",
        "colab": {
          "base_uri": "https://localhost:8080/"
        },
        "outputId": "45244705-9054-4966-f17f-f0bd4636d6e1"
      },
      "execution_count": 30,
      "outputs": [
        {
          "output_type": "stream",
          "name": "stdout",
          "text": [
            "The digital root of 16 is: 7\n",
            "The digital root of 942 is: 6\n",
            "The digital root of 132189 is: 6\n",
            "The digital root of 493193 is: 2\n"
          ]
        }
      ]
    },
    {
      "cell_type": "code",
      "source": [
        "def digital_root(n):\n",
        "    \"\"\"\n",
        "    Calculates the digital root of a number recursively.\n",
        "\n",
        "    Args:\n",
        "      n: A non-negative integer.\n",
        "\n",
        "    Returns:\n",
        "      The single-digit digital root of n.\n",
        "    \"\"\"\n",
        "\n",
        "    # Convert the number to a string to check its length and iterate over its digits.\n",
        "    str_n = str(n)\n",
        "\n",
        "    # This is the base case for the recursion. If the number has only one digit,\n",
        "    # it is the digital root, so we return it.\n",
        "    if len(str_n) == 1:\n",
        "        return n\n",
        "    else:\n",
        "        # If the number has more than one digit, we need to calculate the sum of its digits.\n",
        "        sum_of_digits = 0\n",
        "\n",
        "        # Iterate over each character (digit) in the string.\n",
        "        for digit in str_n:\n",
        "            # Convert the character back to an integer and add it to the sum.\n",
        "            sum_of_digits += int(digit)\n",
        "\n",
        "        # This is the recursive step. We call the function again, passing in the\n",
        "        # sum of the digits. The process will repeat until the base case is met.\n",
        "        return digital_root(sum_of_digits)\n",
        "\n",
        "# Example usage to demonstrate the function:\n",
        "# Test with the example from the problem description: 16\n",
        "# 1 + 6 = 7. 7 is a single-digit number, so the digital root is 7.\n",
        "print(f\"The digital root of 16 is: {digital_root(16)}\")  # Expected output: 7\n",
        "\n",
        "# Another example: 942\n",
        "# 9 + 4 + 2 = 15. 15 has two digits.\n",
        "# 1 + 5 = 6. 6 is a single-digit number, so the digital root is 6.\n",
        "print(f\"The digital root of 942 is: {digital_root(942)}\")  # Expected output: 6\n",
        "\n",
        "# A larger example: 132189\n",
        "# 1 + 3 + 2 + 1 + 8 + 9 = 24\n",
        "# 2 + 4 = 6\n",
        "print(f\"The digital root of 132189 is: {digital_root(132189)}\")  # Expected output: 6\n",
        "\n",
        "# Your new example: 493193\n",
        "# 4 + 9 + 3 + 1 + 9 + 3 = 29\n",
        "# 2 + 9 = 11\n",
        "# 1 + 1 = 2\n",
        "print(f\"The digital root of 493193 is: {digital_root(493193)}\") # Expected output: 2\n"
      ],
      "metadata": {
        "colab": {
          "base_uri": "https://localhost:8080/"
        },
        "id": "vuz_sfxMBpoD",
        "outputId": "f9f13790-ca05-4e57-eae4-c94691cf220e"
      },
      "execution_count": 13,
      "outputs": [
        {
          "output_type": "stream",
          "name": "stdout",
          "text": [
            "The digital root of 16 is: 7\n",
            "The digital root of 942 is: 6\n",
            "The digital root of 132189 is: 6\n",
            "The digital root of 493193 is: 2\n"
          ]
        }
      ]
    },
    {
      "cell_type": "code",
      "source": [
        "def digital_root(n):\n",
        "    digits = list(str(n))\n",
        "    digit_sum = sum((int(digit) for digit in digits))\n",
        "    if digit_sum < 10:\n",
        "        return digit_sum\n",
        "    return digital_root(digit_sum)\n",
        "\n",
        "# The print statements go here, outside the function.\n",
        "print(f\"The digital root of 16 is: {digital_root(16)}\")\n",
        "print(f\"The digital root of 942 is: {digital_root(942)}\")\n",
        "print(f\"The digital root of 132189 is: {digital_root(132189)}\")\n",
        "print(f\"The digital root of 493193 is: {digital_root(493193)}\")"
      ],
      "metadata": {
        "colab": {
          "base_uri": "https://localhost:8080/"
        },
        "id": "Hw6x6ICMB5NO",
        "outputId": "cd431878-df47-4e13-cad8-f4c9ed32ade9"
      },
      "execution_count": 32,
      "outputs": [
        {
          "output_type": "stream",
          "name": "stdout",
          "text": [
            "The digital root of 16 is: 7\n",
            "The digital root of 942 is: 6\n",
            "The digital root of 132189 is: 6\n",
            "The digital root of 493193 is: 2\n"
          ]
        }
      ]
    },
    {
      "cell_type": "code",
      "source": [
        "def digital_root(n):\n",
        "    str_n = str(n)\n",
        "    if len(str_n) == 1:\n",
        "        return n\n",
        "    else:\n",
        "        a = 0\n",
        "        for i in str_n:\n",
        "            a += int(i)\n",
        "        return digital_root(a)\n",
        "\n",
        "# The print statements should be here, outside the function definition.\n",
        "print(f\"The digital root of 16 is: {digital_root(16)}\")\n",
        "print(f\"The digital root of 942 is: {digital_root(942)}\")\n",
        "print(f\"The digital root of 132189 is: {digital_root(132189)}\")\n",
        "print(f\"The digital root of 493193 is: {digital_root(493193)}\")"
      ],
      "metadata": {
        "id": "nbjs_UUU-T_C",
        "colab": {
          "base_uri": "https://localhost:8080/"
        },
        "outputId": "c711e0e5-efa9-4221-bec3-b874718a6c84"
      },
      "execution_count": 34,
      "outputs": [
        {
          "output_type": "stream",
          "name": "stdout",
          "text": [
            "The digital root of 16 is: 7\n",
            "The digital root of 942 is: 6\n",
            "The digital root of 132189 is: 6\n",
            "The digital root of 493193 is: 2\n"
          ]
        }
      ]
    },
    {
      "cell_type": "code",
      "source": [
        "def digital_root(n):\n",
        "    \"\"\"\n",
        "    Calculates the digital root of a number recursively and concisely.\n",
        "\n",
        "    Args:\n",
        "      n: A non-negative integer.\n",
        "\n",
        "    Returns:\n",
        "      The single-digit digital root of n.\n",
        "    \"\"\"\n",
        "\n",
        "    # Convert the number to a list of digit characters.\n",
        "    digits = list(str(n))\n",
        "\n",
        "    # Calculate the sum of the digits using a generator expression and the sum() function.\n",
        "    digit_sum = sum(int(digit) for digit in digits)\n",
        "\n",
        "    # Base case: If the sum is a single digit, return it.\n",
        "    if digit_sum < 10:\n",
        "        return digit_sum\n",
        "\n",
        "    # Recursive step: Call the function again with the new sum.\n",
        "    return digital_root(digit_sum)\n",
        "\n",
        "# Example usage to demonstrate the function:\n",
        "print(f\"The digital root of 16 is: {digital_root(16)}\")\n",
        "print(f\"The digital root of 942 is: {digital_root(942)}\")\n",
        "print(f\"The digital root of 132189 is: {digital_root(132189)}\")\n",
        "print(f\"The digital root of 493193 is: {digital_root(493193)}\")\n",
        "\n"
      ],
      "metadata": {
        "colab": {
          "base_uri": "https://localhost:8080/"
        },
        "id": "2eYGhomQCZbS",
        "outputId": "92f5ab17-f679-4d96-bca5-2c834038927d"
      },
      "execution_count": 15,
      "outputs": [
        {
          "output_type": "stream",
          "name": "stdout",
          "text": [
            "The digital root of 16 is: 7\n",
            "The digital root of 942 is: 6\n",
            "The digital root of 132189 is: 6\n",
            "The digital root of 493193 is: 2\n"
          ]
        }
      ]
    },
    {
      "cell_type": "code",
      "source": [
        "def digital_root(n):\n",
        "    \"\"\"\n",
        "    Calculates the digital root of a number using an iterative approach.\n",
        "\n",
        "    Args:\n",
        "      n: A non-negative integer.\n",
        "\n",
        "    Returns:\n",
        "      The single-digit digital root of n.\n",
        "    \"\"\"\n",
        "\n",
        "    # Calculate the initial sum of digits.\n",
        "    num = sum([int(x) for x in str(n)])\n",
        "\n",
        "    # Keep summing the digits until the number is a single digit.\n",
        "    while num > 9:\n",
        "        num = sum([int(x) for x in str(num)])\n",
        "\n",
        "    # Return the final single-digit number.\n",
        "    return num\n",
        "\n",
        "# Example usage to demonstrate the function:\n",
        "print(f\"The digital root of 16 is: {digital_root(16)}\")\n",
        "print(f\"The digital root of 942 is: {digital_root(942)}\")\n",
        "print(f\"The digital root of 132189 is: {digital_root(132189)}\")\n",
        "print(f\"The digital root of 493193 is: {digital_root(493193)}\")\n",
        "\n"
      ],
      "metadata": {
        "colab": {
          "base_uri": "https://localhost:8080/"
        },
        "id": "kufmbDlUCrvf",
        "outputId": "6458c30a-8a69-45cc-da83-fe951fcca893"
      },
      "execution_count": 16,
      "outputs": [
        {
          "output_type": "stream",
          "name": "stdout",
          "text": [
            "The digital root of 16 is: 7\n",
            "The digital root of 942 is: 6\n",
            "The digital root of 132189 is: 6\n",
            "The digital root of 493193 is: 2\n"
          ]
        }
      ]
    },
    {
      "cell_type": "code",
      "source": [
        "def digital_root(n):\n",
        "    \"\"\"\n",
        "    Calculates the digital root of a number using an explicit iterative approach.\n",
        "\n",
        "    Args:\n",
        "      n: A non-negative integer.\n",
        "\n",
        "    Returns:\n",
        "      The single-digit digital root of n.\n",
        "    \"\"\"\n",
        "\n",
        "    # Use a while loop to continue summing digits until the number is a single digit.\n",
        "    # The condition `n % 10 != n` is true for any number with more than one digit.\n",
        "    while n >= 10:\n",
        "        temp = 0\n",
        "\n",
        "        # Convert the number to a string to easily iterate over its digits.\n",
        "        for digit in str(n):\n",
        "            temp += int(digit)\n",
        "\n",
        "        # Assign the new sum back to n for the next iteration of the loop.\n",
        "        n = temp\n",
        "\n",
        "    return n\n",
        "\n",
        "# Example usage to demonstrate the function:\n",
        "print(f\"The digital root of 16 is: {digital_root(16)}\")\n",
        "print(f\"The digital root of 942 is: {digital_root(942)}\")\n",
        "print(f\"The digital root of 132189 is: {digital_root(132189)}\")\n",
        "print(f\"The digital root of 493193 is: {digital_root(493193)}\")\n",
        "\n"
      ],
      "metadata": {
        "colab": {
          "base_uri": "https://localhost:8080/"
        },
        "id": "Qpnp-5S4FNnf",
        "outputId": "fd16317a-b281-4c9c-f458-1495c1de822c"
      },
      "execution_count": 17,
      "outputs": [
        {
          "output_type": "stream",
          "name": "stdout",
          "text": [
            "The digital root of 16 is: 7\n",
            "The digital root of 942 is: 6\n",
            "The digital root of 132189 is: 6\n",
            "The digital root of 493193 is: 2\n"
          ]
        }
      ]
    },
    {
      "cell_type": "code",
      "source": [
        "def digital_root(n):\n",
        "    \"\"\"\n",
        "    Calculates the digital root of a number using a concise iterative approach.\n",
        "\n",
        "    Args:\n",
        "      n: A non-negative integer.\n",
        "\n",
        "    Returns:\n",
        "      The single-digit digital root of n.\n",
        "    \"\"\"\n",
        "\n",
        "    # Assign the input number to a new variable for manipulation.\n",
        "    res = n\n",
        "\n",
        "    # Continue looping as long as the number is not a single digit.\n",
        "    while len(str(res)) != 1:\n",
        "        # Sum the digits using a list comprehension and re-assign to res.\n",
        "        res = sum([int(ch) for ch in str(res)])\n",
        "\n",
        "    # Return the final single-digit result.\n",
        "    return res\n",
        "\n",
        "# Example usage to demonstrate the function:\n",
        "print(f\"The digital root of 16 is: {digital_root(16)}\")\n",
        "print(f\"The digital root of 942 is: {digital_root(942)}\")\n",
        "print(f\"The digital root of 132189 is: {digital_root(132189)}\")\n",
        "print(f\"The digital root of 493193 is: {digital_root(493193)}\")\n"
      ],
      "metadata": {
        "colab": {
          "base_uri": "https://localhost:8080/"
        },
        "id": "YfXcibqlFsxo",
        "outputId": "0b60c5a6-a4e6-4457-e450-22c002c73780"
      },
      "execution_count": 18,
      "outputs": [
        {
          "output_type": "stream",
          "name": "stdout",
          "text": [
            "The digital root of 16 is: 7\n",
            "The digital root of 942 is: 6\n",
            "The digital root of 132189 is: 6\n",
            "The digital root of 493193 is: 2\n"
          ]
        }
      ]
    },
    {
      "cell_type": "code",
      "source": [
        "def digital_root(n):\n",
        "    \"\"\"\n",
        "    Calculates the digital root of a number using a concise iterative approach with map().\n",
        "\n",
        "    Args:\n",
        "      n: A non-negative integer.\n",
        "\n",
        "    Returns:\n",
        "      The single-digit digital root of n.\n",
        "    \"\"\"\n",
        "\n",
        "    # Start with the number as a string for easy digit-by-digit processing.\n",
        "    str_n = str(n)\n",
        "\n",
        "    # Loop until the number is a single digit.\n",
        "    while len(str_n) != 1:\n",
        "        # Sum the digits by first converting the characters to integers\n",
        "        # using a list comprehension and map(), then converting the sum back to a string.\n",
        "        str_n = str(sum(map(int, [x for x in str_n])))\n",
        "\n",
        "    # Convert the final single-digit string back to an integer and return it.\n",
        "    n = int(str_n)\n",
        "    return n\n",
        "\n",
        "# Example usage to demonstrate the function:\n",
        "print(f\"The digital root of 16 is: {digital_root(16)}\")\n",
        "print(f\"The digital root of 942 is: {digital_root(942)}\")\n",
        "print(f\"The digital root of 132189 is: {digital_root(132189)}\")\n",
        "print(f\"The digital root of 493193 is: {digital_root(493193)}\")\n",
        "\n"
      ],
      "metadata": {
        "colab": {
          "base_uri": "https://localhost:8080/"
        },
        "id": "Qjo7RT6OGBO-",
        "outputId": "04cfeef5-6e06-4786-844b-9a4677036fbb"
      },
      "execution_count": 19,
      "outputs": [
        {
          "output_type": "stream",
          "name": "stdout",
          "text": [
            "The digital root of 16 is: 7\n",
            "The digital root of 942 is: 6\n",
            "The digital root of 132189 is: 6\n",
            "The digital root of 493193 is: 2\n"
          ]
        }
      ]
    },
    {
      "cell_type": "code",
      "source": [
        "def digital_root(n):\n",
        "    \"\"\"\n",
        "    Calculates the digital root of a number using a nested while loop and arithmetic operations.\n",
        "\n",
        "    Args:\n",
        "      n: A non-negative integer.\n",
        "\n",
        "    Returns:\n",
        "      The single-digit digital root of n.\n",
        "    \"\"\"\n",
        "\n",
        "    # The outer loop continues as long as the number is a multi-digit number.\n",
        "    while n >= 10:\n",
        "        sum_digits = 0\n",
        "\n",
        "        # The inner loop extracts and sums the digits using math.\n",
        "        while n > 0:\n",
        "            sum_digits += n % 10  # Adds the last digit to the sum.\n",
        "            n //= 10              # Removes the last digit.\n",
        "\n",
        "        n = sum_digits            # Updates n with the new sum for the next outer loop check.\n",
        "\n",
        "    return n\n",
        "\n",
        "# Example usage to demonstrate the function:\n",
        "print(f\"The digital root of 16 is: {digital_root(16)}\")\n",
        "print(f\"The digital root of 942 is: {digital_root(942)}\")\n",
        "print(f\"The digital root of 132189 is: {digital_root(132189)}\")\n",
        "print(f\"The digital root of 493193 is: {digital_root(493193)}\")\n",
        "\n"
      ],
      "metadata": {
        "colab": {
          "base_uri": "https://localhost:8080/"
        },
        "id": "b2mUx_kNGizv",
        "outputId": "91328c0d-7f94-41b5-bb00-39f4ed55dce3"
      },
      "execution_count": 20,
      "outputs": [
        {
          "output_type": "stream",
          "name": "stdout",
          "text": [
            "The digital root of 16 is: 7\n",
            "The digital root of 942 is: 6\n",
            "The digital root of 132189 is: 6\n",
            "The digital root of 493193 is: 2\n"
          ]
        }
      ]
    },
    {
      "cell_type": "code",
      "source": [
        "def digital_root(n):\n",
        "    \"\"\"\n",
        "    Calculates the digital root of a number using a streamlined iterative approach.\n",
        "\n",
        "    Args:\n",
        "      n: A non-negative integer.\n",
        "\n",
        "    Returns:\n",
        "      The single-digit digital root of n.\n",
        "    \"\"\"\n",
        "\n",
        "    # Calculate the initial sum of digits using a generator expression.\n",
        "    resultado = sum(int(x) for x in str(n))\n",
        "\n",
        "    # Keep summing the digits until the number is a single digit.\n",
        "    while resultado >= 10:\n",
        "        resultado = sum(int(x) for x in str(resultado))\n",
        "\n",
        "    # Return the final single-digit result.\n",
        "    return resultado\n",
        "\n",
        "# Example usage to demonstrate the function:\n",
        "print(f\"The digital root of 16 is: {digital_root(16)}\")\n",
        "print(f\"The digital root of 942 is: {digital_root(942)}\")\n",
        "print(f\"The digital root of 132189 is: {digital_root(132189)}\")\n",
        "print(f\"The digital root of 493193 is: {digital_root(493193)}\")\n",
        "\n"
      ],
      "metadata": {
        "colab": {
          "base_uri": "https://localhost:8080/"
        },
        "id": "8ll5tYS3G9H-",
        "outputId": "691cf7fd-3053-43e8-b530-71638d284eb3"
      },
      "execution_count": 21,
      "outputs": [
        {
          "output_type": "stream",
          "name": "stdout",
          "text": [
            "The digital root of 16 is: 7\n",
            "The digital root of 942 is: 6\n",
            "The digital root of 132189 is: 6\n",
            "The digital root of 493193 is: 2\n"
          ]
        }
      ]
    },
    {
      "cell_type": "code",
      "source": [
        "def digital_root(n):\n",
        "    \"\"\"\n",
        "    Calculates the digital root of a number using an iterative approach.\n",
        "\n",
        "    Args:\n",
        "      n: A non-negative integer.\n",
        "\n",
        "    Returns:\n",
        "      The single-digit digital root of n.\n",
        "    \"\"\"\n",
        "\n",
        "    # The outer loop repeats until n is a single digit.\n",
        "    while n > 9:\n",
        "        # Convert the number to a string.\n",
        "        var = str(n)\n",
        "\n",
        "        # Reset the sum for the new number.\n",
        "        total = 0\n",
        "\n",
        "        # Loop through each digit in the string.\n",
        "        for i in var:\n",
        "            # Convert the digit back to an integer and add it to the total.\n",
        "            total += int(i)\n",
        "\n",
        "        # Update n with the new total for the next loop iteration.\n",
        "        n = total\n",
        "\n",
        "    # Return the final single-digit result.\n",
        "    return n\n",
        "\n",
        "# Example usage to demonstrate the function:\n",
        "print(f\"The digital root of 16 is: {digital_root(16)}\")\n",
        "print(f\"The digital root of 942 is: {digital_root(942)}\")\n",
        "print(f\"The digital root of 132189 is: {digital_root(132189)}\")\n",
        "print(f\"The digital root of 493193 is: {digital_root(493193)}\")\n",
        "\n"
      ],
      "metadata": {
        "colab": {
          "base_uri": "https://localhost:8080/"
        },
        "id": "CAEl9-XsHvkm",
        "outputId": "14c9d85d-cbd2-4284-e186-d2546aeecae6"
      },
      "execution_count": 22,
      "outputs": [
        {
          "output_type": "stream",
          "name": "stdout",
          "text": [
            "The digital root of 16 is: 7\n",
            "The digital root of 942 is: 6\n",
            "The digital root of 132189 is: 6\n",
            "The digital root of 493193 is: 2\n"
          ]
        }
      ]
    },
    {
      "cell_type": "code",
      "source": [
        "def digital_root(n):\n",
        "    \"\"\"\n",
        "    Calculates the digital root of a number using a recursive approach.\n",
        "\n",
        "    Args:\n",
        "      n: A non-negative integer.\n",
        "\n",
        "    Returns:\n",
        "      The single-digit digital root of n.\n",
        "    \"\"\"\n",
        "\n",
        "    # Convert the number to a string to easily sum its digits.\n",
        "    ns = str(n)\n",
        "    res = 0\n",
        "\n",
        "    # Loop through each digit and add it to the sum.\n",
        "    for i in ns:\n",
        "        res += int(i)\n",
        "\n",
        "    # Recursive check: if the sum has more than one digit, call the function again.\n",
        "    if len(str(res)) > 1:\n",
        "        res = digital_root(res)\n",
        "\n",
        "    # Return the single-digit result.\n",
        "    return res\n",
        "\n",
        "# Example usage to demonstrate the function:\n",
        "print(f\"The digital root of 16 is: {digital_root(16)}\")\n",
        "print(f\"The digital root of 942 is: {digital_root(942)}\")\n",
        "print(f\"The digital root of 132189 is: {digital_root(132189)}\")\n",
        "print(f\"The digital root of 493193 is: {digital_root(493193)}\")\n",
        "\n"
      ],
      "metadata": {
        "colab": {
          "base_uri": "https://localhost:8080/"
        },
        "id": "fxibXQbkIHCm",
        "outputId": "1dc8d6e5-8b9f-46ef-ce2b-92de749627fd"
      },
      "execution_count": 23,
      "outputs": [
        {
          "output_type": "stream",
          "name": "stdout",
          "text": [
            "The digital root of 16 is: 7\n",
            "The digital root of 942 is: 6\n",
            "The digital root of 132189 is: 6\n",
            "The digital root of 493193 is: 2\n"
          ]
        }
      ]
    },
    {
      "cell_type": "code",
      "source": [
        "def digital_root(n):\n",
        "    \"\"\"\n",
        "    Calculates the digital root of a number using an explicit iterative approach.\n",
        "\n",
        "    Args:\n",
        "      n: A non-negative integer.\n",
        "\n",
        "    Returns:\n",
        "      The single-digit digital root of n.\n",
        "    \"\"\"\n",
        "\n",
        "    # Convert the number to a string for easy processing.\n",
        "    s = str(n)\n",
        "    x = 0\n",
        "\n",
        "    # Handle single-digit numbers immediately.\n",
        "    if len(s) <= 1:\n",
        "        return n\n",
        "\n",
        "    # Loop as long as the number has more than one digit.\n",
        "    while len(s) > 1:\n",
        "        # Reset the sum for each iteration.\n",
        "        x = 0\n",
        "\n",
        "        # Loop through each digit in the string.\n",
        "        for c in s:\n",
        "            x += int(c)\n",
        "\n",
        "        # Convert the new sum back to a string for the next loop check.\n",
        "        s = str(x)\n",
        "\n",
        "    # Return the final single-digit result.\n",
        "    return x\n",
        "\n",
        "# Example usage to demonstrate the function:\n",
        "print(f\"The digital root of 16 is: {digital_root(16)}\")\n",
        "print(f\"The digital root of 942 is: {digital_root(942)}\")\n",
        "print(f\"The digital root of 132189 is: {digital_root(132189)}\")\n",
        "print(f\"The digital root of 493193 is: {digital_root(493193)}\")\n",
        "\n"
      ],
      "metadata": {
        "colab": {
          "base_uri": "https://localhost:8080/"
        },
        "id": "RFJ2LlGoIXtX",
        "outputId": "e762428a-e753-4261-abff-3310bfdbb3da"
      },
      "execution_count": 24,
      "outputs": [
        {
          "output_type": "stream",
          "name": "stdout",
          "text": [
            "The digital root of 16 is: 7\n",
            "The digital root of 942 is: 6\n",
            "The digital root of 132189 is: 6\n",
            "The digital root of 493193 is: 2\n"
          ]
        }
      ]
    },
    {
      "cell_type": "code",
      "source": [
        "def digital_root(n):\n",
        "    \"\"\"\n",
        "    Calculates the digital root of a number using a streamlined iterative approach.\n",
        "\n",
        "    Args:\n",
        "      n: A non-negative integer.\n",
        "\n",
        "    Returns:\n",
        "      The single-digit digital root of n.\n",
        "    \"\"\"\n",
        "\n",
        "    # Calculate the initial sum of the digits using a generator expression.\n",
        "    total = sum(int(num) for num in str(n))\n",
        "\n",
        "    # Keep summing the digits until the number is a single digit (less than or equal to 9).\n",
        "    while total > 9:\n",
        "        total = sum(int(num) for num in str(total))\n",
        "\n",
        "    # Return the final single-digit result.\n",
        "    return total\n",
        "\n",
        "# Example usage to demonstrate the function:\n",
        "print(f\"The digital root of 16 is: {digital_root(16)}\")\n",
        "print(f\"The digital root of 942 is: {digital_root(942)}\")\n",
        "print(f\"The digital root of 132189 is: {digital_root(132189)}\")\n",
        "print(f\"The digital root of 493193 is: {digital_root(493193)}\")\n",
        "\n"
      ],
      "metadata": {
        "colab": {
          "base_uri": "https://localhost:8080/"
        },
        "id": "qc0BIu_xIyn-",
        "outputId": "cb9d6c3a-3091-4574-9483-bcf1a855079f"
      },
      "execution_count": 25,
      "outputs": [
        {
          "output_type": "stream",
          "name": "stdout",
          "text": [
            "The digital root of 16 is: 7\n",
            "The digital root of 942 is: 6\n",
            "The digital root of 132189 is: 6\n",
            "The digital root of 493193 is: 2\n"
          ]
        }
      ]
    },
    {
      "cell_type": "code",
      "source": [
        "def digital_root(n):\n",
        "    \"\"\"\n",
        "    Calculates the digital root of a number using a streamlined iterative approach.\n",
        "\n",
        "    Args:\n",
        "      n: A non-negative integer.\n",
        "\n",
        "    Returns:\n",
        "      The single-digit digital root of n.\n",
        "    \"\"\"\n",
        "\n",
        "    # We use a single variable 'result' to hold the number during the process.\n",
        "    result = n\n",
        "\n",
        "    # The while loop continues as long as the number has more than one digit.\n",
        "    # len(str(result)) != 1 is a clear way to check this.\n",
        "    while len(str(result)) != 1:\n",
        "        # We calculate the sum of the digits in one line using a generator expression.\n",
        "        result = sum(int(x) for x in str(result))\n",
        "\n",
        "    # Once the loop is finished, the result is a single digit.\n",
        "    return result\n",
        "\n",
        "# Example usage to demonstrate the function:\n",
        "print(f\"The digital root of 16 is: {digital_root(16)}\")\n",
        "print(f\"The digital root of 942 is: {digital_root(942)}\")\n",
        "print(f\"The digital root of 132189 is: {digital_root(132189)}\")\n",
        "print(f\"The digital root of 493193 is: {digital_root(493193)}\")\n",
        "\n"
      ],
      "metadata": {
        "colab": {
          "base_uri": "https://localhost:8080/"
        },
        "id": "Ae5v3qjbJNcs",
        "outputId": "55c24a48-eb0f-4041-d91d-74e618ec8d6a"
      },
      "execution_count": 26,
      "outputs": [
        {
          "output_type": "stream",
          "name": "stdout",
          "text": [
            "The digital root of 16 is: 7\n",
            "The digital root of 942 is: 6\n",
            "The digital root of 132189 is: 6\n",
            "The digital root of 493193 is: 2\n"
          ]
        }
      ]
    },
    {
      "cell_type": "code",
      "source": [],
      "metadata": {
        "id": "tiW0BCqCM55I"
      },
      "execution_count": null,
      "outputs": []
    }
  ]
}