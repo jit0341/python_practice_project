{
  "nbformat": 4,
  "nbformat_minor": 0,
  "metadata": {
    "colab": {
      "provenance": [],
      "authorship_tag": "ABX9TyPUHkd1sNP6fpFxhLgX88nb",
      "include_colab_link": true
    },
    "kernelspec": {
      "name": "python3",
      "display_name": "Python 3"
    },
    "language_info": {
      "name": "python"
    }
  },
  "cells": [
    {
      "cell_type": "markdown",
      "metadata": {
        "id": "view-in-github",
        "colab_type": "text"
      },
      "source": [
        "<a href=\"https://colab.research.google.com/github/jit0341/python_practice_project/blob/main/symbols_cheat_sheet_py.ipynb\" target=\"_parent\"><img src=\"https://colab.research.google.com/assets/colab-badge.svg\" alt=\"Open In Colab\"/></a>"
      ]
    },
    {
      "cell_type": "code",
      "execution_count": 1,
      "metadata": {
        "colab": {
          "base_uri": "https://localhost:8080/"
        },
        "id": "W1XH3_-3p283",
        "outputId": "294a7db3-985c-4f96-c9e5-890519db85da"
      },
      "outputs": [
        {
          "output_type": "stream",
          "name": "stdout",
          "text": [
            "=== ✅ General Indicators ===\n",
            "✔ Success (✔)\n",
            "✖ Error (✖)\n",
            "⚠ Warning (⚠)\n",
            "❌ Cross (❌)\n",
            "✅ Check (✅)\n",
            "ℹ Info (ℹ)\n",
            "\n",
            "=== 🎉 Fun / Feedback ===\n",
            "🎉 Celebration (🎉)\n",
            "👏 Clap (👏)\n",
            "🔥 Fire (🔥)\n",
            "⚡ Power (⚡)\n",
            "🌟 Star (🌟)\n",
            "💡 Idea (💡)\n",
            "\n",
            "=== 🔢 Math & Logic ===\n",
            "π Pi (π)\n",
            "√ Square Root (√)\n",
            "∑ Summation (∑)\n",
            "∞ Infinity (∞)\n",
            "≠ Not Equal (≠)\n",
            "≤ Less or Equal (≤)\n",
            "≥ Greater or Equal (≥)\n",
            "\n",
            "=== 🔀 Arrows ===\n",
            "→ Right (→)\n",
            "← Left (←)\n",
            "↑ Up (↑)\n",
            "↓ Down (↓)\n",
            "↔ Left-Right (↔)\n",
            "⇨ Heavy Right (⇨)\n",
            "\n",
            "=== 🎮 Games / Console ===\n",
            "🎲 Dice (🎲)\n",
            "🎯 Target (🎯)\n",
            "🏆 Trophy (🏆)\n",
            "❤️ Heart (❤)\n",
            "💀 Skull (💀)\n",
            "👑 Crown (👑)\n",
            "\n",
            "=== ⚙ System / Tools ===\n",
            "🖥 Computer (🖥)\n",
            "📂 Folder (📂)\n",
            "📊 Chart (📊)\n",
            "🔑 Key (🔑)\n",
            "🔒 Locked (🔒)\n",
            "🔓 Unlocked (🔓)\n",
            "\n",
            "=== 📝 Demo Usage ===\n",
            "✅ Correct Answer!\n",
            "❌ Wrong Answer!\n",
            "⚡ Python is powerful!\n",
            "Your reward: 🏆 + 🎉\n",
            "Math example: √16 = 4.0\n"
          ]
        }
      ],
      "source": [
        "# symbols_cheat_sheet.py\n",
        "# A quick demo of useful symbols and emojis in Python output\n",
        "\n",
        "print(\"=== ✅ General Indicators ===\")\n",
        "print(\"✔ Success (\\u2714)\")\n",
        "print(\"✖ Error (\\u2716)\")\n",
        "print(\"⚠ Warning (\\u26A0)\")\n",
        "print(\"❌ Cross (\\u274C)\")\n",
        "print(\"✅ Check (\\u2705)\")\n",
        "print(\"ℹ Info (\\u2139)\")\n",
        "\n",
        "print(\"\\n=== 🎉 Fun / Feedback ===\")\n",
        "print(\"🎉 Celebration (\\U0001F389)\")\n",
        "print(\"👏 Clap (\\U0001F44F)\")\n",
        "print(\"🔥 Fire (\\U0001F525)\")\n",
        "print(\"⚡ Power (\\u26A1)\")\n",
        "print(\"🌟 Star (\\U0001F31F)\")\n",
        "print(\"💡 Idea (\\U0001F4A1)\")\n",
        "\n",
        "print(\"\\n=== 🔢 Math & Logic ===\")\n",
        "print(\"π Pi (\\u03C0)\")\n",
        "print(\"√ Square Root (\\u221A)\")\n",
        "print(\"∑ Summation (\\u2211)\")\n",
        "print(\"∞ Infinity (\\u221E)\")\n",
        "print(\"≠ Not Equal (\\u2260)\")\n",
        "print(\"≤ Less or Equal (\\u2264)\")\n",
        "print(\"≥ Greater or Equal (\\u2265)\")\n",
        "\n",
        "print(\"\\n=== 🔀 Arrows ===\")\n",
        "print(\"→ Right (\\u2192)\")\n",
        "print(\"← Left (\\u2190)\")\n",
        "print(\"↑ Up (\\u2191)\")\n",
        "print(\"↓ Down (\\u2193)\")\n",
        "print(\"↔ Left-Right (\\u2194)\")\n",
        "print(\"⇨ Heavy Right (\\u21E8)\")\n",
        "\n",
        "print(\"\\n=== 🎮 Games / Console ===\")\n",
        "print(\"🎲 Dice (\\U0001F3B2)\")\n",
        "print(\"🎯 Target (\\U0001F3AF)\")\n",
        "print(\"🏆 Trophy (\\U0001F3C6)\")\n",
        "print(\"❤️ Heart (\\u2764)\")\n",
        "print(\"💀 Skull (\\U0001F480)\")\n",
        "print(\"👑 Crown (\\U0001F451)\")\n",
        "\n",
        "print(\"\\n=== ⚙ System / Tools ===\")\n",
        "print(\"🖥 Computer (\\U0001F5A5)\")\n",
        "print(\"📂 Folder (\\U0001F4C2)\")\n",
        "print(\"📊 Chart (\\U0001F4CA)\")\n",
        "print(\"🔑 Key (\\U0001F511)\")\n",
        "print(\"🔒 Locked (\\U0001F512)\")\n",
        "print(\"🔓 Unlocked (\\U0001F513)\")\n",
        "\n",
        "print(\"\\n=== 📝 Demo Usage ===\")\n",
        "print(\"✅ Correct Answer!\")\n",
        "print(\"❌ Wrong Answer!\")\n",
        "print(\"⚡ Python is powerful!\")\n",
        "print(\"Your reward: 🏆 + 🎉\")\n",
        "print(\"Math example: √16 =\", 16**0.5)\n"
      ]
    }
  ]
}