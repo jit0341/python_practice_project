{
  "nbformat": 4,
  "nbformat_minor": 0,
  "metadata": {
    "colab": {
      "provenance": [],
      "authorship_tag": "ABX9TyP3vZV799AoJzqX/Wm2jfI0",
      "include_colab_link": true
    },
    "kernelspec": {
      "name": "python3",
      "display_name": "Python 3"
    },
    "language_info": {
      "name": "python"
    }
  },
  "cells": [
    {
      "cell_type": "markdown",
      "metadata": {
        "id": "view-in-github",
        "colab_type": "text"
      },
      "source": [
        "<a href=\"https://colab.research.google.com/github/jit0341/python_practice_project/blob/main/closures_practice_py.ipynb\" target=\"_parent\"><img src=\"https://colab.research.google.com/assets/colab-badge.svg\" alt=\"Open In Colab\"/></a>"
      ]
    },
    {
      "cell_type": "code",
      "execution_count": 1,
      "metadata": {
        "colab": {
          "base_uri": "https://localhost:8080/"
        },
        "id": "peXKCjsjkLwo",
        "outputId": "bf026b0f-1ff2-43f7-a8b0-347208927842"
      },
      "outputs": [
        {
          "output_type": "stream",
          "name": "stdout",
          "text": [
            "1\n",
            "2\n",
            "3\n",
            "5\n",
            "15\n",
            "18\n",
            "[1]\n",
            "[1, 2]\n",
            "[1, 2, 3]\n",
            "[2, 3, 4]\n"
          ]
        }
      ],
      "source": [
        "def make_call_counter():\n",
        "    count = 0\n",
        "    def counter():\n",
        "        nonlocal count\n",
        "        count += 1\n",
        "        return count\n",
        "    return counter\n",
        "\n",
        "def make_running_total():\n",
        "    total = 0\n",
        "    def adder(num):\n",
        "        nonlocal total\n",
        "        total += num\n",
        "        return total\n",
        "    return adder\n",
        "\n",
        "def make_output_cache():\n",
        "    cache = []\n",
        "    def cacher(value):\n",
        "        nonlocal cache\n",
        "        cache.append(value)\n",
        "        if len(cache) > 3:\n",
        "            cache.pop(0)\n",
        "        return cache\n",
        "    return cacher\n",
        "\n",
        "# Example usage:\n",
        "if __name__ == \"__main__\":\n",
        "    # Call counter\n",
        "    count_calls = make_call_counter()\n",
        "    print(count_calls())  # 1\n",
        "    print(count_calls())  # 2\n",
        "    print(count_calls())  # 3\n",
        "\n",
        "    # Running total\n",
        "    running_total = make_running_total()\n",
        "    print(running_total(5))   # 5\n",
        "    print(running_total(10))  # 15\n",
        "    print(running_total(3))   # 18\n",
        "\n",
        "    # Output cache\n",
        "    cache_outputs = make_output_cache()\n",
        "    print(cache_outputs(1))  # [1]\n",
        "    print(cache_outputs(2))  # [1, 2]\n",
        "    print(cache_outputs(3))  # [1, 2, 3]\n",
        "    print(cache_outputs(4))  # [2, 3, 4]"
      ]
    },
    {
      "cell_type": "code",
      "source": [
        "#Write a closure that remembers how many times a function was called.\n",
        "\n",
        "#Write a closure that generates a running total.\n",
        "\n",
        "#Write a closure that stores last 3 function outputs (like cache)."
      ],
      "metadata": {
        "id": "IoVSM6N8k9R7"
      },
      "execution_count": 2,
      "outputs": []
    },
    {
      "cell_type": "code",
      "source": [
        "def make_call_counter():\n",
        "    count = 0\n",
        "    def counter():\n",
        "        nonlocal count\n",
        "        count += 1\n",
        "        return count\n",
        "    return counter\n",
        "\n",
        "def make_running_total():\n",
        "    total = 0\n",
        "    def add_number(num):\n",
        "        nonlocal total\n",
        "        total += num\n",
        "        return total\n",
        "    return add_number\n",
        "\n",
        "def make_output_cache():\n",
        "    cache = []\n",
        "    def store_value(value):\n",
        "        nonlocal cache\n",
        "        cache.append(value)\n",
        "        if len(cache) > 3:\n",
        "            cache.pop(0)\n",
        "        return cache[:]  # return a copy for safety\n",
        "    return store_value\n",
        "\n",
        "# Example usage:\n",
        "if __name__ == \"__main__\":\n",
        "    # Call counter\n",
        "    count_calls = make_call_counter()\n",
        "    print(\"Call Counter:\", count_calls())  # 1\n",
        "    print(\"Call Counter:\", count_calls())  # 2\n",
        "    print(\"Call Counter:\", count_calls())  # 3\n",
        "\n",
        "    # Running total\n",
        "    running_total = make_running_total()\n",
        "    print(\"Running Total:\", running_total(5))   # 5\n",
        "    print(\"Running Total:\", running_total(10))  # 15\n",
        "    print(\"Running Total:\", running_total(3))   # 18\n",
        "\n",
        "    # Output cache\n",
        "    cache_outputs = make_output_cache()\n",
        "    print(\"Cache Outputs:\", cache_outputs(1))  # [1]\n",
        "    print(\"Cache Outputs:\", cache_outputs(2))  # [1, 2]\n",
        "    print(\"Cache Outputs:\", cache_outputs(3))  # [1, 2, 3]\n",
        "    print(\"Cache Outputs:\", cache_outputs(4))  # [2, 3, 4]\n"
      ],
      "metadata": {
        "colab": {
          "base_uri": "https://localhost:8080/"
        },
        "id": "j3JqtFHAnXDk",
        "outputId": "2f46b062-b69a-4b9b-f8ec-0a545fb5efd4"
      },
      "execution_count": 3,
      "outputs": [
        {
          "output_type": "stream",
          "name": "stdout",
          "text": [
            "Call Counter: 1\n",
            "Call Counter: 2\n",
            "Call Counter: 3\n",
            "Running Total: 5\n",
            "Running Total: 15\n",
            "Running Total: 18\n",
            "Cache Outputs: [1]\n",
            "Cache Outputs: [1, 2]\n",
            "Cache Outputs: [1, 2, 3]\n",
            "Cache Outputs: [2, 3, 4]\n"
          ]
        }
      ]
    },
    {
      "cell_type": "code",
      "source": [
        "# closures_practice.py\n",
        "\"\"\"\n",
        "Practice with Python Closures\n",
        "1. Closure that remembers how many times a function was called.\n",
        "2. Closure that generates a running total.\n",
        "3. Closure that stores last 3 function outputs (like cache).\n",
        "\"\"\"\n",
        "\n",
        "# --- 1. Function Call Counter ---\n",
        "def make_call_counter():\n",
        "    count = 0\n",
        "    def counter():\n",
        "        nonlocal count\n",
        "        count += 1\n",
        "        return count\n",
        "    return counter\n",
        "\n",
        "\n",
        "# --- 2. Running Total Generator ---\n",
        "def make_running_total():\n",
        "    total = 0\n",
        "    def add_to_total(x):\n",
        "        nonlocal total\n",
        "        total += x\n",
        "        return total\n",
        "    return add_to_total\n",
        "\n",
        "\n",
        "# --- 3. Cache Last 3 Outputs ---\n",
        "def make_cache():\n",
        "    cache = []\n",
        "    def cached_function(x):\n",
        "        # Example: square the input\n",
        "        result = x * x\n",
        "        cache.append(result)\n",
        "        if len(cache) > 3:\n",
        "            cache.pop(0)   # Keep only last 3 results\n",
        "        return result, list(cache)\n",
        "    return cached_function\n",
        "\n",
        "\n",
        "# --- Demo usage ---\n",
        "if __name__ == \"__main__\":\n",
        "\n",
        "    print(\"=== 1. Call Counter ===\")\n",
        "    counter = make_call_counter()\n",
        "    print(counter())  # 1\n",
        "    print(counter())  # 2\n",
        "    print(counter())  # 3\n",
        "\n",
        "    print(\"\\n=== 2. Running Total ===\")\n",
        "    running_total = make_running_total()\n",
        "    print(running_total(5))   # 5\n",
        "    print(running_total(10))  # 15\n",
        "    print(running_total(20))  # 35\n",
        "\n",
        "    print(\"\\n=== 3. Cache Last 3 Outputs ===\")\n",
        "    cached_fn = make_cache()\n",
        "    print(cached_fn(2))  # (4, [4])\n",
        "    print(cached_fn(3))  # (9, [4, 9])\n",
        "    print(cached_fn(4))  # (16, [4, 9, 16])\n",
        "    print(cached_fn(5))  # (25, [9, 16, 25])\n"
      ],
      "metadata": {
        "colab": {
          "base_uri": "https://localhost:8080/"
        },
        "id": "8RaqlCDInt0C",
        "outputId": "10e43e61-9d14-4ca7-a17f-76dc85ee2092"
      },
      "execution_count": 4,
      "outputs": [
        {
          "output_type": "stream",
          "name": "stdout",
          "text": [
            "=== 1. Call Counter ===\n",
            "1\n",
            "2\n",
            "3\n",
            "\n",
            "=== 2. Running Total ===\n",
            "5\n",
            "15\n",
            "35\n",
            "\n",
            "=== 3. Cache Last 3 Outputs ===\n",
            "(4, [4])\n",
            "(9, [4, 9])\n",
            "(16, [4, 9, 16])\n",
            "(25, [9, 16, 25])\n"
          ]
        }
      ]
    },
    {
      "cell_type": "code",
      "source": [
        "def make_step_counter(step=1):\n",
        "    count = 0\n",
        "    def counter():\n",
        "        nonlocal count\n",
        "        count += step\n",
        "        return count\n",
        "    return counter\n",
        "\n",
        "if __name__ == \"__main__\":\n",
        "    step2_counter = make_step_counter(2)\n",
        "    print(step2_counter())  # 2\n",
        "    print(step2_counter())  # 4\n"
      ],
      "metadata": {
        "colab": {
          "base_uri": "https://localhost:8080/"
        },
        "id": "Dn2WzMgtopO7",
        "outputId": "f0cc09df-108a-4e3b-a3ca-c61657e99c71"
      },
      "execution_count": 6,
      "outputs": [
        {
          "output_type": "stream",
          "name": "stdout",
          "text": [
            "2\n",
            "4\n"
          ]
        }
      ]
    },
    {
      "cell_type": "code",
      "source": [
        "def running_total():\n",
        "    total = 0\n",
        "    def adder(x):\n",
        "        nonlocal total\n",
        "        total += x\n",
        "        return total\n",
        "    return adder\n",
        "\n",
        "if __name__ == \"__main__\":\n",
        "    add_total = running_total()\n",
        "    print(add_total(10))  # 10\n",
        "    print(add_total(5))   # 15\n",
        "    print(add_total(20))  # 35\n"
      ],
      "metadata": {
        "colab": {
          "base_uri": "https://localhost:8080/"
        },
        "id": "4hMjYw_LowaD",
        "outputId": "8fefb412-2262-44eb-b22c-208b87ca4ed2"
      },
      "execution_count": 7,
      "outputs": [
        {
          "output_type": "stream",
          "name": "stdout",
          "text": [
            "10\n",
            "15\n",
            "35\n"
          ]
        }
      ]
    },
    {
      "cell_type": "code",
      "source": [
        "def factorial_cache():\n",
        "    cache = {}\n",
        "    def fact(n):\n",
        "        if n in cache:\n",
        "            return f\"(from cache) {cache[n]}\"\n",
        "        if n == 0 or n == 1:\n",
        "            cache[n] = 1\n",
        "        else:\n",
        "            cache[n] = n * fact(n - 1)\n",
        "        return cache[n]\n",
        "    return fact\n",
        "\n",
        "if __name__ == \"__main__\":\n",
        "    fact = factorial_cache()\n",
        "    print(fact(5))   # 120\n",
        "    print(fact(5))   # from cache\n"
      ],
      "metadata": {
        "colab": {
          "base_uri": "https://localhost:8080/"
        },
        "id": "09Q1Uuuro2jc",
        "outputId": "2153b1fc-dfd4-40ec-8ac0-6ec9668b802b"
      },
      "execution_count": 8,
      "outputs": [
        {
          "output_type": "stream",
          "name": "stdout",
          "text": [
            "120\n",
            "(from cache) 120\n"
          ]
        }
      ]
    },
    {
      "cell_type": "code",
      "source": [
        "def string_reverse_cache(k=3):\n",
        "    cache = []\n",
        "    def reverse(s):\n",
        "        nonlocal cache\n",
        "        result = s[::-1]\n",
        "        cache.append(result)\n",
        "        if len(cache) > k:\n",
        "            cache.pop(0)   # remove oldest\n",
        "        return result, cache\n",
        "    return reverse\n",
        "\n",
        "if __name__ == \"__main__\":\n",
        "    rev = string_reverse_cache()\n",
        "    print(rev(\"hello\"))   # ('olleh', ['olleh'])\n",
        "    print(rev(\"world\"))   # ('dlrow', ['olleh', 'dlrow'])\n",
        "    print(rev(\"python\"))  # ('nohtyp', ['olleh', 'dlrow', 'nohtyp'])\n",
        "    print(rev(\"java\"))    # ('avaj', ['dlrow', 'nohtyp', 'avaj'])\n"
      ],
      "metadata": {
        "colab": {
          "base_uri": "https://localhost:8080/"
        },
        "id": "ucJRb5Vxo7nD",
        "outputId": "634ec153-43ad-4f67-d2b7-40c7d89edfd5"
      },
      "execution_count": 9,
      "outputs": [
        {
          "output_type": "stream",
          "name": "stdout",
          "text": [
            "('olleh', ['olleh'])\n",
            "('dlrow', ['olleh', 'dlrow'])\n",
            "('nohtyp', ['olleh', 'dlrow', 'nohtyp'])\n",
            "('avaj', ['dlrow', 'nohtyp', 'avaj'])\n"
          ]
        }
      ]
    },
    {
      "cell_type": "code",
      "source": [
        "def make_math_closure(mode=\"factorial\"):\n",
        "    \"\"\"Closure that calculates either factorial or fibonacci depending on mode.\"\"\"\n",
        "\n",
        "    def factorial(n):\n",
        "        if n == 0 or n == 1:\n",
        "            return 1\n",
        "        return n * factorial(n - 1)\n",
        "\n",
        "    def fibonacci(n):\n",
        "        if n == 0:\n",
        "            return 0\n",
        "        elif n == 1:\n",
        "            return 1\n",
        "        return fibonacci(n - 1) + fibonacci(n - 2)\n",
        "\n",
        "    def math_func(n):\n",
        "        if mode == \"factorial\":\n",
        "            return factorial(n)\n",
        "        elif mode == \"fibonacci\":\n",
        "            return fibonacci(n)\n",
        "        else:\n",
        "            raise ValueError(\"Unsupported mode! Use 'factorial' or 'fibonacci'.\")\n",
        "\n",
        "    return math_func\n",
        "\n",
        "\n",
        "if __name__ == \"__main__\":\n",
        "    # Create closures\n",
        "    fact = make_math_closure(\"factorial\")\n",
        "    fib = make_math_closure(\"fibonacci\")\n",
        "\n",
        "    # Test factorial\n",
        "    print(\"Factorial of 5:\", fact(5))   # 120\n",
        "    print(\"Factorial of 6:\", fact(6))   # 720\n",
        "\n",
        "    # Test fibonacci\n",
        "    print(\"Fibonacci of 5:\", fib(5))   # 5\n",
        "    print(\"Fibonacci of 7:\", fib(7))   # 13\n"
      ],
      "metadata": {
        "colab": {
          "base_uri": "https://localhost:8080/"
        },
        "id": "cVT0TqUdpb0V",
        "outputId": "38a12892-10df-457d-a211-eedf452d080d"
      },
      "execution_count": 10,
      "outputs": [
        {
          "output_type": "stream",
          "name": "stdout",
          "text": [
            "Factorial of 5: 120\n",
            "Factorial of 6: 720\n",
            "Fibonacci of 5: 5\n",
            "Fibonacci of 7: 13\n"
          ]
        }
      ]
    },
    {
      "cell_type": "code",
      "source": [
        "def math_closure():\n",
        "    cache = {\"factorial\": {}, \"fibonacci\": {}}\n",
        "\n",
        "    def factorial(n):\n",
        "        if n in cache[\"factorial\"]:\n",
        "            return cache[\"factorial\"][n]\n",
        "        if n == 0 or n == 1:\n",
        "            result = 1\n",
        "        else:\n",
        "            result = n * factorial(n - 1)\n",
        "        cache[\"factorial\"][n] = result\n",
        "        return result\n",
        "\n",
        "    def fibonacci(n):\n",
        "        if n in cache[\"fibonacci\"]:\n",
        "            return cache[\"fibonacci\"][n]\n",
        "        if n == 0:\n",
        "            result = 0\n",
        "        elif n == 1:\n",
        "            result = 1\n",
        "        else:\n",
        "            result = fibonacci(n - 1) + fibonacci(n - 2)\n",
        "        cache[\"fibonacci\"][n] = result\n",
        "        return result\n",
        "\n",
        "    def compute(mode, n):\n",
        "        if mode == \"factorial\":\n",
        "            return factorial(n)\n",
        "        elif mode == \"fibonacci\":\n",
        "            return fibonacci(n)\n",
        "        else:\n",
        "            return \"Invalid mode! Use 'factorial' or 'fibonacci'.\"\n",
        "\n",
        "    return compute\n",
        "\n",
        "\n",
        "# ---- USAGE ----\n",
        "math_func = math_closure()\n",
        "\n",
        "print(\"Factorial(5):\", math_func(\"factorial\", 5))\n",
        "print(\"Factorial(6):\", math_func(\"factorial\", 6))  # uses cached 5! inside\n",
        "\n",
        "print(\"Fibonacci(6):\", math_func(\"fibonacci\", 6))\n",
        "print(\"Fibonacci(7):\", math_func(\"fibonacci\", 7))  # uses cached fib(6)\n"
      ],
      "metadata": {
        "colab": {
          "base_uri": "https://localhost:8080/"
        },
        "id": "q4CIzf05p28N",
        "outputId": "6a417464-58d0-4d2b-fac2-cf959999d3c0"
      },
      "execution_count": 11,
      "outputs": [
        {
          "output_type": "stream",
          "name": "stdout",
          "text": [
            "Factorial(5): 120\n",
            "Factorial(6): 720\n",
            "Fibonacci(6): 8\n",
            "Fibonacci(7): 13\n"
          ]
        }
      ]
    }
  ]
}